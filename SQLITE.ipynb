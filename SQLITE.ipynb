{
 "cells": [
  {
   "cell_type": "code",
   "execution_count": 1,
   "id": "3bdca675",
   "metadata": {},
   "outputs": [],
   "source": [
    "import warnings\n",
    "warnings.filterwarnings(\"ignore\")"
   ]
  },
  {
   "cell_type": "code",
   "execution_count": 2,
   "id": "cd166761",
   "metadata": {},
   "outputs": [
    {
     "name": "stderr",
     "output_type": "stream",
     "text": [
      "ERROR: Could not find a version that satisfies the requirement sqlite3 (from versions: none)\n",
      "ERROR: No matching distribution found for sqlite3\n"
     ]
    }
   ],
   "source": [
    "!pip install sqlite3"
   ]
  },
  {
   "cell_type": "code",
   "execution_count": 3,
   "id": "44b3064e",
   "metadata": {},
   "outputs": [],
   "source": [
    "import sqlite3"
   ]
  },
  {
   "cell_type": "code",
   "execution_count": 5,
   "id": "e49855e7",
   "metadata": {},
   "outputs": [
    {
     "data": {
      "text/plain": [
       "<sqlite3.Connection at 0x12bb64d3040>"
      ]
     },
     "execution_count": 5,
     "metadata": {},
     "output_type": "execute_result"
    }
   ],
   "source": [
    "connection = sqlite3.connect('employeesdata.db')\n",
    "connection"
   ]
  },
  {
   "cell_type": "code",
   "execution_count": 6,
   "id": "77d80ed7",
   "metadata": {},
   "outputs": [],
   "source": [
    "cursor = connection.cursor()"
   ]
  },
  {
   "cell_type": "code",
   "execution_count": 7,
   "id": "9de7192e",
   "metadata": {},
   "outputs": [],
   "source": [
    "create_emp_table = \"\"\"\n",
    "CREATE TABLE IF NOT EXISTS Employee (\n",
    "        EmployeeID INTEGER PRIMARY KEY,\n",
    "        FirstName TEXT,\n",
    "        LastName TEXT,\n",
    "        Department TEXT,\n",
    "        HireDate DATE\n",
    "    );\n",
    "\"\"\""
   ]
  },
  {
   "cell_type": "code",
   "execution_count": 8,
   "id": "7459af84",
   "metadata": {},
   "outputs": [
    {
     "data": {
      "text/plain": [
       "<sqlite3.Cursor at 0x12bb665e340>"
      ]
     },
     "execution_count": 8,
     "metadata": {},
     "output_type": "execute_result"
    }
   ],
   "source": [
    "cursor.execute(create_emp_table)"
   ]
  },
  {
   "cell_type": "code",
   "execution_count": 9,
   "id": "06eadda1",
   "metadata": {},
   "outputs": [],
   "source": [
    "connection.commit()"
   ]
  },
  {
   "cell_type": "code",
   "execution_count": 10,
   "id": "7df19bb5",
   "metadata": {},
   "outputs": [],
   "source": [
    "create_perf_table = \"\"\"\n",
    "CREATE TABLE IF NOT EXISTS PerformanceMetrics (\n",
    "        MetricID INTEGER PRIMARY KEY,\n",
    "        EmployeeID INTEGER,\n",
    "        MetricDate DATE,\n",
    "        SalesRevenue REAL,\n",
    "        ProjectCompletionRate REAL,\n",
    "        FOREIGN KEY (EmployeeID) REFERENCES Employees (EmployeeID)\n",
    "    );\n",
    "\"\"\""
   ]
  },
  {
   "cell_type": "code",
   "execution_count": 11,
   "id": "ff7cb62c",
   "metadata": {},
   "outputs": [
    {
     "data": {
      "text/plain": [
       "<sqlite3.Cursor at 0x12bb665e340>"
      ]
     },
     "execution_count": 11,
     "metadata": {},
     "output_type": "execute_result"
    }
   ],
   "source": [
    "cursor.execute(create_perf_table)"
   ]
  },
  {
   "cell_type": "code",
   "execution_count": 12,
   "id": "d3e26f1d",
   "metadata": {},
   "outputs": [],
   "source": [
    "connection.commit()"
   ]
  },
  {
   "cell_type": "code",
   "execution_count": 13,
   "id": "a1c95718",
   "metadata": {},
   "outputs": [
    {
     "data": {
      "text/plain": [
       "<sqlite3.Cursor at 0x12bb665e340>"
      ]
     },
     "execution_count": 13,
     "metadata": {},
     "output_type": "execute_result"
    }
   ],
   "source": [
    "cursor.execute(\"INSERT INTO Employee (FirstName, LastName, Department, HireDate) VALUES ('John', 'Doe', 'Sales', '2022-01-15');\")"
   ]
  },
  {
   "cell_type": "code",
   "execution_count": 16,
   "id": "2b3bc880",
   "metadata": {},
   "outputs": [],
   "source": [
    "connection.commit()"
   ]
  },
  {
   "cell_type": "code",
   "execution_count": 14,
   "id": "bd90687f",
   "metadata": {},
   "outputs": [
    {
     "data": {
      "text/plain": [
       "<sqlite3.Cursor at 0x12bb665e340>"
      ]
     },
     "execution_count": 14,
     "metadata": {},
     "output_type": "execute_result"
    }
   ],
   "source": [
    "cursor.execute(\"Select * from Employee\")"
   ]
  },
  {
   "cell_type": "code",
   "execution_count": 15,
   "id": "38a018c3",
   "metadata": {},
   "outputs": [
    {
     "data": {
      "text/plain": [
       "[(1, 'John', 'Doe', 'Sales', '2022-01-15')]"
      ]
     },
     "execution_count": 15,
     "metadata": {},
     "output_type": "execute_result"
    }
   ],
   "source": [
    "employees = cursor.fetchall()\n",
    "employees"
   ]
  },
  {
   "cell_type": "code",
   "execution_count": null,
   "id": "4d16daaf",
   "metadata": {},
   "outputs": [],
   "source": [
    "!pip install Faker"
   ]
  },
  {
   "cell_type": "code",
   "execution_count": 17,
   "id": "f637182e",
   "metadata": {},
   "outputs": [],
   "source": [
    "from faker import Faker\n",
    "import random"
   ]
  },
  {
   "cell_type": "code",
   "execution_count": 18,
   "id": "e491f56a",
   "metadata": {},
   "outputs": [],
   "source": [
    "fake = Faker()"
   ]
  },
  {
   "cell_type": "code",
   "execution_count": 27,
   "id": "d86b549b",
   "metadata": {},
   "outputs": [
    {
     "data": {
      "text/plain": [
       "'Margaret'"
      ]
     },
     "execution_count": 27,
     "metadata": {},
     "output_type": "execute_result"
    }
   ],
   "source": [
    "fake.first_name()"
   ]
  },
  {
   "cell_type": "code",
   "execution_count": 29,
   "id": "c082374c",
   "metadata": {},
   "outputs": [],
   "source": [
    "new_emp_data = []\n",
    "\n",
    "for i in range(10):\n",
    "    first_name = fake.first_name()\n",
    "    last_name = fake.last_name()\n",
    "    dept = [\"Sales\",\"Marketing\",\"Admin\"]\n",
    "    department = random.choice(dept)\n",
    "    hire_date = fake.date_of_birth(minimum_age=22,maximum_age=60).strftime('%Y-%m-%d')\n",
    "    \n",
    "    new_emp_data.append((first_name,last_name,department,hire_date))"
   ]
  },
  {
   "cell_type": "code",
   "execution_count": 30,
   "id": "418439ef",
   "metadata": {
    "collapsed": true
   },
   "outputs": [
    {
     "data": {
      "text/plain": [
       "[('Stephen', 'Reed', 'Sales', '1974-12-26'),\n",
       " ('Wendy', 'Thomas', 'Sales', '1969-11-15'),\n",
       " ('Nina', 'Contreras', 'Admin', '1965-06-08'),\n",
       " ('Gregory', 'Sanchez', 'Sales', '2000-01-01'),\n",
       " ('William', 'Thompson', 'Sales', '1975-01-01'),\n",
       " ('Kaitlyn', 'Tucker', 'Admin', '1970-11-25'),\n",
       " ('Andrew', 'Ashley', 'Admin', '1962-09-20'),\n",
       " ('Ashley', 'Gonzalez', 'Admin', '1968-09-24'),\n",
       " ('Monica', 'Dougherty', 'Sales', '1988-11-16'),\n",
       " ('Nancy', 'Peterson', 'Sales', '2000-06-10')]"
      ]
     },
     "execution_count": 30,
     "metadata": {},
     "output_type": "execute_result"
    }
   ],
   "source": [
    "new_emp_data"
   ]
  },
  {
   "cell_type": "code",
   "execution_count": 31,
   "id": "834510bd",
   "metadata": {},
   "outputs": [],
   "source": [
    "insert_query = \"INSERT INTO Employee (FirstName, LastName, Department, HireDate) VALUES (?,?,?,?);\""
   ]
  },
  {
   "cell_type": "code",
   "execution_count": 32,
   "id": "1e12886c",
   "metadata": {},
   "outputs": [],
   "source": [
    "connection.executemany(insert_query,new_emp_data)\n",
    "\n",
    "connection.commit()"
   ]
  },
  {
   "cell_type": "code",
   "execution_count": 33,
   "id": "067b3a45",
   "metadata": {
    "collapsed": true
   },
   "outputs": [
    {
     "data": {
      "text/plain": [
       "[(1, 'John', 'Doe', 'Sales', '2022-01-15'),\n",
       " (2, 'Stephen', 'Reed', 'Sales', '1974-12-26'),\n",
       " (3, 'Wendy', 'Thomas', 'Sales', '1969-11-15'),\n",
       " (4, 'Nina', 'Contreras', 'Admin', '1965-06-08'),\n",
       " (5, 'Gregory', 'Sanchez', 'Sales', '2000-01-01'),\n",
       " (6, 'William', 'Thompson', 'Sales', '1975-01-01'),\n",
       " (7, 'Kaitlyn', 'Tucker', 'Admin', '1970-11-25'),\n",
       " (8, 'Andrew', 'Ashley', 'Admin', '1962-09-20'),\n",
       " (9, 'Ashley', 'Gonzalez', 'Admin', '1968-09-24'),\n",
       " (10, 'Monica', 'Dougherty', 'Sales', '1988-11-16'),\n",
       " (11, 'Nancy', 'Peterson', 'Sales', '2000-06-10')]"
      ]
     },
     "execution_count": 33,
     "metadata": {},
     "output_type": "execute_result"
    }
   ],
   "source": [
    "cursor.execute(\"Select * from employee\")\n",
    "\n",
    "cursor.fetchall()"
   ]
  },
  {
   "cell_type": "code",
   "execution_count": 34,
   "id": "0085be12",
   "metadata": {},
   "outputs": [],
   "source": [
    "import pandas as pd\n",
    "\n",
    "data = pd.read_csv(r\"C:\\Users\\Admin\\Downloads\\Indian Airlines.csv\")"
   ]
  },
  {
   "cell_type": "code",
   "execution_count": 35,
   "id": "90274f1c",
   "metadata": {},
   "outputs": [],
   "source": [
    "conn = sqlite3.connect(\"airlines.db\")"
   ]
  },
  {
   "cell_type": "code",
   "execution_count": 36,
   "id": "a4ca5384",
   "metadata": {},
   "outputs": [],
   "source": [
    "?data.to_sql"
   ]
  },
  {
   "cell_type": "code",
   "execution_count": 37,
   "id": "4e7b9fc0",
   "metadata": {},
   "outputs": [
    {
     "data": {
      "text/plain": [
       "300153"
      ]
     },
     "execution_count": 37,
     "metadata": {},
     "output_type": "execute_result"
    }
   ],
   "source": [
    "data.to_sql(\"airlines_table\",con=conn,if_exists=\"replace\",index=False)"
   ]
  },
  {
   "cell_type": "code",
   "execution_count": 38,
   "id": "9cb7a8e8",
   "metadata": {},
   "outputs": [],
   "source": [
    "conn.close()"
   ]
  }
 ],
 "metadata": {
  "kernelspec": {
   "display_name": "Python 3 (ipykernel)",
   "language": "python",
   "name": "python3"
  },
  "language_info": {
   "codemirror_mode": {
    "name": "ipython",
    "version": 3
   },
   "file_extension": ".py",
   "mimetype": "text/x-python",
   "name": "python",
   "nbconvert_exporter": "python",
   "pygments_lexer": "ipython3",
   "version": "3.10.9"
  }
 },
 "nbformat": 4,
 "nbformat_minor": 5
}
